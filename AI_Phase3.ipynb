{
 "cells": [
  {
   "cell_type": "code",
   "execution_count": 1,
   "id": "0e493fdf-eea2-45d0-9837-5ce776192a16",
   "metadata": {},
   "outputs": [],
   "source": [
    "# import modules\n",
    "import pandas as pd\n",
    "import numpy as np\n",
    "import matplotlib.pyplot as plt\n",
    "import seaborn as sns\n",
    "import re\n",
    "import nltk\n",
    "import warnings\n",
    "import sklearn\n",
    "%matplotlib inline\n",
    "\n",
    "warnings.filterwarnings('ignore')"
   ]
  },
  {
   "cell_type": "code",
   "execution_count": 2,
   "id": "c8333cdb-d28c-485b-a4d4-75c2a4a34c23",
   "metadata": {},
   "outputs": [
    {
     "name": "stdout",
     "output_type": "stream",
     "text": [
      "(44898, 5)\n"
     ]
    },
    {
     "data": {
      "text/html": [
       "<div>\n",
       "<style scoped>\n",
       "    .dataframe tbody tr th:only-of-type {\n",
       "        vertical-align: middle;\n",
       "    }\n",
       "\n",
       "    .dataframe tbody tr th {\n",
       "        vertical-align: top;\n",
       "    }\n",
       "\n",
       "    .dataframe thead th {\n",
       "        text-align: right;\n",
       "    }\n",
       "</style>\n",
       "<table border=\"1\" class=\"dataframe\">\n",
       "  <thead>\n",
       "    <tr style=\"text-align: right;\">\n",
       "      <th></th>\n",
       "      <th>title</th>\n",
       "      <th>text</th>\n",
       "      <th>subject</th>\n",
       "      <th>date</th>\n",
       "      <th>Target</th>\n",
       "    </tr>\n",
       "  </thead>\n",
       "  <tbody>\n",
       "    <tr>\n",
       "      <th>0</th>\n",
       "      <td>Rights groups urge EU, Japan to consider halt ...</td>\n",
       "      <td>BANGKOK (Reuters) - Rights groups on Wednesday...</td>\n",
       "      <td>worldnews</td>\n",
       "      <td>October 18, 2017</td>\n",
       "      <td>True</td>\n",
       "    </tr>\n",
       "    <tr>\n",
       "      <th>1</th>\n",
       "      <td>WATCH: IRRELEVANT DEM POLITICAL ANALYST James ...</td>\n",
       "      <td>On Friday s broadcast of HBO s  Real Time,  fo...</td>\n",
       "      <td>left-news</td>\n",
       "      <td>Oct 21, 2017</td>\n",
       "      <td>Fake</td>\n",
       "    </tr>\n",
       "    <tr>\n",
       "      <th>2</th>\n",
       "      <td>Trump Asks O’Reilly, ‘Do you think our country...</td>\n",
       "      <td>21st Century Wire says Regardless of what one ...</td>\n",
       "      <td>US_News</td>\n",
       "      <td>February 6, 2017</td>\n",
       "      <td>Fake</td>\n",
       "    </tr>\n",
       "    <tr>\n",
       "      <th>3</th>\n",
       "      <td>Factbox: Trump fills top jobs for his administ...</td>\n",
       "      <td>(Reuters) - U.S. President-elect Donald Trump ...</td>\n",
       "      <td>politicsNews</td>\n",
       "      <td>December 5, 2016</td>\n",
       "      <td>True</td>\n",
       "    </tr>\n",
       "    <tr>\n",
       "      <th>4</th>\n",
       "      <td>ONE LAST TIME ON OUR DIME: Mooch and Barack Ar...</td>\n",
       "      <td>The  hard working  First Family, in need of an...</td>\n",
       "      <td>politics</td>\n",
       "      <td>Aug 6, 2016</td>\n",
       "      <td>Fake</td>\n",
       "    </tr>\n",
       "  </tbody>\n",
       "</table>\n",
       "</div>"
      ],
      "text/plain": [
       "                                               title  \\\n",
       "0  Rights groups urge EU, Japan to consider halt ...   \n",
       "1  WATCH: IRRELEVANT DEM POLITICAL ANALYST James ...   \n",
       "2  Trump Asks O’Reilly, ‘Do you think our country...   \n",
       "3  Factbox: Trump fills top jobs for his administ...   \n",
       "4  ONE LAST TIME ON OUR DIME: Mooch and Barack Ar...   \n",
       "\n",
       "                                                text       subject  \\\n",
       "0  BANGKOK (Reuters) - Rights groups on Wednesday...     worldnews   \n",
       "1  On Friday s broadcast of HBO s  Real Time,  fo...     left-news   \n",
       "2  21st Century Wire says Regardless of what one ...       US_News   \n",
       "3  (Reuters) - U.S. President-elect Donald Trump ...  politicsNews   \n",
       "4  The  hard working  First Family, in need of an...      politics   \n",
       "\n",
       "                date Target  \n",
       "0  October 18, 2017    True  \n",
       "1       Oct 21, 2017   Fake  \n",
       "2   February 6, 2017   Fake  \n",
       "3  December 5, 2016    True  \n",
       "4        Aug 6, 2016   Fake  "
      ]
     },
     "execution_count": 2,
     "metadata": {},
     "output_type": "execute_result"
    }
   ],
   "source": [
    "true_data = pd.read_csv('True.csv')\n",
    "fake_data = pd.read_csv('Fake.csv')\n",
    "\n",
    "true_data['Target'] = ['True'] * len(true_data)\n",
    "fake_data['Target'] = ['Fake'] * len(fake_data)\n",
    "\n",
    "# Concatenate the data frames using pd.concat\n",
    "data = pd.concat([true_data, fake_data]).sample(frac=1).reset_index(drop=True)\n",
    "print(data.shape)\n",
    "data.head()\n"
   ]
  },
  {
   "cell_type": "code",
   "execution_count": 3,
   "id": "21e0fe15-3c8e-4cf5-85cd-b683a7fec7b0",
   "metadata": {},
   "outputs": [
    {
     "data": {
      "text/plain": [
       "'Rights groups urge EU, Japan to consider halt in funding for  Cambodian election'"
      ]
     },
     "execution_count": 3,
     "metadata": {},
     "output_type": "execute_result"
    }
   ],
   "source": [
    "data['title'][0]\n"
   ]
  },
  {
   "cell_type": "code",
   "execution_count": 4,
   "id": "5ff76a62-4938-4ee7-a664-6c6c5222e236",
   "metadata": {},
   "outputs": [
    {
     "data": {
      "text/plain": [
       "'BANGKOK (Reuters) - Rights groups on Wednesday urged the European Union and Japan to consider halting their funding for the election panel in Cambodia, if the ruling party succeeds in a bid to dissolve the main opposition party ahead of next year s general election. The ruling Cambodia People s Party (CPP) has launched a crackdown on its critics, including politicians, independent media and non-government bodies. Nearly half the opposition members of parliament have fled abroad since September. In a session boycotted by the opposition, Cambodia s parliament voted on Monday to change party laws to re-distribute seats if a party is dissolved. The measure came after the government filed a lawsuit this month seeking to dissolve the main opposition Cambodia National Rescue Party (CNRP).  If the government s position to dissolve the opposition Cambodia National Rescue Party succeeds, next year s election will be a joke,  Phil Robertson, deputy director for Asia at New York-based group Human Rights Watch, told Reuters.  At that point, both the EU and Japan should face reality and terminate their financial and technical assistance to avoid lending credibility to what will be a charade of democracy,  he added, speaking after a news conference in Bangkok. Japan and the EU are the two biggest foreign funders of the 2018 vote. China and the United States have also contributed, with the United States providing trucks and technical support, while Japan has given computers. Japan s embassy in Phnom Penh did not reply to a Reuters request for comment on the matter. George Edgar, head of the EU delegation to Cambodia, said the EU remains  ready to support a credible electoral process  but added that the polls should only go ahead with the opposition s involvement. He urged Cambodian authorities not to go ahead with the dissolution of the opposition party.  The EU remains ready to support a credible electoral process up to the National Assembly election in 2018. However we do not believe that a process from which the main opposition party was arbitrarily excluded could be seen as legitimate,  Edgar told Reuters. Cambodia s election commission was not immediately available for comment. The CPP has used  dirty tricks  to jail opposition leaders and force others into exile, Robertson added. CNRP leader Kem Sokha was arrested on Sept. 3 and charged with treason after the government said he had conspired with foreign advisers to topple it. Cambodia is relying on a partisan judiciary to silence critics and  dismantle democracy , the Geneva-based International Commission of Jurists (ICJ) said in a report on Wednesday.      Old laws are being dusted off and new laws are being created,  Kingsley Abbot, the group s southeast Asia adviser, told reporters.  And all of these have led to a list of seemingly politicized investigations.   In recent months, the government of Prime Minister Hun Sen, who has ruled Cambodia for more than 30 years, has revoked the licenses of about 15 independent radio stations. The Cambodia Daily, an English-language newspaper, was also forced to shut in September following government allegations of non-payment of millions of dollars in taxes.  Hun Sen has the backing of Beijing, which says it supports Cambodia s right to maintain its national security. '"
      ]
     },
     "execution_count": 4,
     "metadata": {},
     "output_type": "execute_result"
    }
   ],
   "source": [
    "data['text'][0]"
   ]
  },
  {
   "cell_type": "code",
   "execution_count": 5,
   "id": "a7a85e1a-8054-4db2-9736-dd70579e8812",
   "metadata": {},
   "outputs": [
    {
     "name": "stdout",
     "output_type": "stream",
     "text": [
      "<class 'pandas.core.frame.DataFrame'>\n",
      "RangeIndex: 44898 entries, 0 to 44897\n",
      "Data columns (total 5 columns):\n",
      " #   Column   Non-Null Count  Dtype \n",
      "---  ------   --------------  ----- \n",
      " 0   title    44898 non-null  object\n",
      " 1   text     44898 non-null  object\n",
      " 2   subject  44898 non-null  object\n",
      " 3   date     44898 non-null  object\n",
      " 4   Target   44898 non-null  object\n",
      "dtypes: object(5)\n",
      "memory usage: 1.7+ MB\n"
     ]
    }
   ],
   "source": [
    "data.info()"
   ]
  },
  {
   "cell_type": "code",
   "execution_count": 6,
   "id": "5c396ef4-9c5f-4e9d-b37f-a905be85e0a7",
   "metadata": {},
   "outputs": [],
   "source": [
    "#preprocessing\n",
    "#drop null values\n",
    "data=data.dropna(axis=0)"
   ]
  },
  {
   "cell_type": "code",
   "execution_count": 7,
   "id": "ffd076ff-edb2-43bb-bfd3-49daaff2c319",
   "metadata": {},
   "outputs": [
    {
     "data": {
      "text/plain": [
       "44898"
      ]
     },
     "execution_count": 7,
     "metadata": {},
     "output_type": "execute_result"
    }
   ],
   "source": [
    "len(data)"
   ]
  },
  {
   "cell_type": "code",
   "execution_count": 8,
   "id": "17557ec8-b46e-44e2-8430-29842047db35",
   "metadata": {},
   "outputs": [
    {
     "data": {
      "text/plain": [
       "0        bangkok (reuters) - rights groups on wednesday...\n",
       "1        on friday s broadcast of hbo s  real time,  fo...\n",
       "2        21st century wire says regardless of what one ...\n",
       "3        (reuters) - u.s. president-elect donald trump ...\n",
       "4        the  hard working  first family, in need of an...\n",
       "                               ...                        \n",
       "44893    21st century wire says does the american ideal...\n",
       "44894    barinas, venezuela (reuters) - tirelessly trav...\n",
       "44895    phnom penh (reuters) - cambodian prime ministe...\n",
       "44896    geneva (reuters) - the united states wants to ...\n",
       "44897    beijing (reuters) - u.s. president donald trum...\n",
       "Name: clean_news, Length: 44898, dtype: object"
      ]
     },
     "execution_count": 8,
     "metadata": {},
     "output_type": "execute_result"
    }
   ],
   "source": [
    "#converting all strings to lowercase\n",
    "data['clean_news']=data['text'].str.lower()\n",
    "data['clean_news']"
   ]
  },
  {
   "cell_type": "code",
   "execution_count": 9,
   "id": "2fd76d47-cdfd-4872-b278-8aa7e4c45da5",
   "metadata": {},
   "outputs": [
    {
     "data": {
      "text/plain": [
       "0        bangkok (reuters) - rights groups on wednesday...\n",
       "1        on friday s broadcast of hbo s  real time,  fo...\n",
       "2        21st century wire says regardless of what one ...\n",
       "3        (reuters) - u.s. president-elect donald trump ...\n",
       "4        the  hard working  first family, in need of an...\n",
       "                               ...                        \n",
       "44893    21st century wire says does the american ideal...\n",
       "44894    barinas, venezuela (reuters) - tirelessly trav...\n",
       "44895    phnom penh (reuters) - cambodian prime ministe...\n",
       "44896    geneva (reuters) - the united states wants to ...\n",
       "44897    beijing (reuters) - u.s. president donald trum...\n",
       "Name: clean_news, Length: 44898, dtype: object"
      ]
     },
     "execution_count": 9,
     "metadata": {},
     "output_type": "execute_result"
    }
   ],
   "source": [
    "#removing special characters , extra spaces and escape characters\n",
    "data['clean_news']=data['clean_news'].str.replace('[^A-Za-z0-9\\s]','')\n",
    "data['clean_news']=data['clean_news'].str.replace('[\\n]','')\n",
    "data['clean_news']=data['clean_news'].str.replace('[\\s+]',' ')\n",
    "data['clean_news']"
   ]
  },
  {
   "cell_type": "code",
   "execution_count": 10,
   "id": "ac29c94c-9351-46cd-b786-197b8f2b41f0",
   "metadata": {},
   "outputs": [
    {
     "name": "stderr",
     "output_type": "stream",
     "text": [
      "[nltk_data] Downloading package stopwords to\n",
      "[nltk_data]     C:\\Users\\rsriv\\AppData\\Roaming\\nltk_data...\n",
      "[nltk_data]   Package stopwords is already up-to-date!\n"
     ]
    },
    {
     "data": {
      "text/plain": [
       "True"
      ]
     },
     "execution_count": 10,
     "metadata": {},
     "output_type": "execute_result"
    }
   ],
   "source": [
    "nltk.download('stopwords')\n"
   ]
  },
  {
   "cell_type": "code",
   "execution_count": 11,
   "id": "0bce9ab6-7dbc-48bb-9919-a86d12fab747",
   "metadata": {},
   "outputs": [
    {
     "data": {
      "text/html": [
       "<div>\n",
       "<style scoped>\n",
       "    .dataframe tbody tr th:only-of-type {\n",
       "        vertical-align: middle;\n",
       "    }\n",
       "\n",
       "    .dataframe tbody tr th {\n",
       "        vertical-align: top;\n",
       "    }\n",
       "\n",
       "    .dataframe thead th {\n",
       "        text-align: right;\n",
       "    }\n",
       "</style>\n",
       "<table border=\"1\" class=\"dataframe\">\n",
       "  <thead>\n",
       "    <tr style=\"text-align: right;\">\n",
       "      <th></th>\n",
       "      <th>title</th>\n",
       "      <th>text</th>\n",
       "      <th>subject</th>\n",
       "      <th>date</th>\n",
       "      <th>Target</th>\n",
       "      <th>clean_news</th>\n",
       "    </tr>\n",
       "  </thead>\n",
       "  <tbody>\n",
       "    <tr>\n",
       "      <th>0</th>\n",
       "      <td>Rights groups urge EU, Japan to consider halt ...</td>\n",
       "      <td>BANGKOK (Reuters) - Rights groups on Wednesday...</td>\n",
       "      <td>worldnews</td>\n",
       "      <td>October 18, 2017</td>\n",
       "      <td>True</td>\n",
       "      <td>bangkok (reuters) - rights groups wednesday ur...</td>\n",
       "    </tr>\n",
       "    <tr>\n",
       "      <th>1</th>\n",
       "      <td>WATCH: IRRELEVANT DEM POLITICAL ANALYST James ...</td>\n",
       "      <td>On Friday s broadcast of HBO s  Real Time,  fo...</td>\n",
       "      <td>left-news</td>\n",
       "      <td>Oct 21, 2017</td>\n",
       "      <td>Fake</td>\n",
       "      <td>friday broadcast hbo real time, former clinton...</td>\n",
       "    </tr>\n",
       "    <tr>\n",
       "      <th>2</th>\n",
       "      <td>Trump Asks O’Reilly, ‘Do you think our country...</td>\n",
       "      <td>21st Century Wire says Regardless of what one ...</td>\n",
       "      <td>US_News</td>\n",
       "      <td>February 6, 2017</td>\n",
       "      <td>Fake</td>\n",
       "      <td>21st century wire says regardless one thinks d...</td>\n",
       "    </tr>\n",
       "    <tr>\n",
       "      <th>3</th>\n",
       "      <td>Factbox: Trump fills top jobs for his administ...</td>\n",
       "      <td>(Reuters) - U.S. President-elect Donald Trump ...</td>\n",
       "      <td>politicsNews</td>\n",
       "      <td>December 5, 2016</td>\n",
       "      <td>True</td>\n",
       "      <td>(reuters) - u.s. president-elect donald trump ...</td>\n",
       "    </tr>\n",
       "    <tr>\n",
       "      <th>4</th>\n",
       "      <td>ONE LAST TIME ON OUR DIME: Mooch and Barack Ar...</td>\n",
       "      <td>The  hard working  First Family, in need of an...</td>\n",
       "      <td>politics</td>\n",
       "      <td>Aug 6, 2016</td>\n",
       "      <td>Fake</td>\n",
       "      <td>hard working first family, need another taxpay...</td>\n",
       "    </tr>\n",
       "  </tbody>\n",
       "</table>\n",
       "</div>"
      ],
      "text/plain": [
       "                                               title  \\\n",
       "0  Rights groups urge EU, Japan to consider halt ...   \n",
       "1  WATCH: IRRELEVANT DEM POLITICAL ANALYST James ...   \n",
       "2  Trump Asks O’Reilly, ‘Do you think our country...   \n",
       "3  Factbox: Trump fills top jobs for his administ...   \n",
       "4  ONE LAST TIME ON OUR DIME: Mooch and Barack Ar...   \n",
       "\n",
       "                                                text       subject  \\\n",
       "0  BANGKOK (Reuters) - Rights groups on Wednesday...     worldnews   \n",
       "1  On Friday s broadcast of HBO s  Real Time,  fo...     left-news   \n",
       "2  21st Century Wire says Regardless of what one ...       US_News   \n",
       "3  (Reuters) - U.S. President-elect Donald Trump ...  politicsNews   \n",
       "4  The  hard working  First Family, in need of an...      politics   \n",
       "\n",
       "                date Target                                         clean_news  \n",
       "0  October 18, 2017    True  bangkok (reuters) - rights groups wednesday ur...  \n",
       "1       Oct 21, 2017   Fake  friday broadcast hbo real time, former clinton...  \n",
       "2   February 6, 2017   Fake  21st century wire says regardless one thinks d...  \n",
       "3  December 5, 2016    True  (reuters) - u.s. president-elect donald trump ...  \n",
       "4        Aug 6, 2016   Fake  hard working first family, need another taxpay...  "
      ]
     },
     "execution_count": 11,
     "metadata": {},
     "output_type": "execute_result"
    }
   ],
   "source": [
    "#remove stop words\n",
    "from nltk.corpus import stopwords\n",
    "stop=stopwords.words('english')\n",
    "data['clean_news']=data['clean_news'].apply(lambda x: \" \".join([word for word in x.split() if word not in stop]))\n",
    "data.head()"
   ]
  },
  {
   "cell_type": "code",
   "execution_count": 13,
   "id": "a2a6f731-5863-4d75-abce-25a51c5996ca",
   "metadata": {},
   "outputs": [
    {
     "name": "stderr",
     "output_type": "stream",
     "text": [
      "[nltk_data] Downloading package punkt to\n",
      "[nltk_data]     C:\\Users\\rsriv\\AppData\\Roaming\\nltk_data...\n",
      "[nltk_data]   Package punkt is already up-to-date!\n"
     ]
    },
    {
     "data": {
      "text/plain": [
       "True"
      ]
     },
     "execution_count": 13,
     "metadata": {},
     "output_type": "execute_result"
    }
   ],
   "source": [
    "nltk.download('punkt')"
   ]
  },
  {
   "cell_type": "code",
   "execution_count": 14,
   "id": "d4287499-6770-4b18-b0eb-4755dc7fa4a2",
   "metadata": {},
   "outputs": [
    {
     "data": {
      "text/html": [
       "<div>\n",
       "<style scoped>\n",
       "    .dataframe tbody tr th:only-of-type {\n",
       "        vertical-align: middle;\n",
       "    }\n",
       "\n",
       "    .dataframe tbody tr th {\n",
       "        vertical-align: top;\n",
       "    }\n",
       "\n",
       "    .dataframe thead th {\n",
       "        text-align: right;\n",
       "    }\n",
       "</style>\n",
       "<table border=\"1\" class=\"dataframe\">\n",
       "  <thead>\n",
       "    <tr style=\"text-align: right;\">\n",
       "      <th></th>\n",
       "      <th>title</th>\n",
       "      <th>text</th>\n",
       "      <th>subject</th>\n",
       "      <th>date</th>\n",
       "      <th>Target</th>\n",
       "      <th>clean_news</th>\n",
       "      <th>tokenized_news</th>\n",
       "    </tr>\n",
       "  </thead>\n",
       "  <tbody>\n",
       "    <tr>\n",
       "      <th>0</th>\n",
       "      <td>Rights groups urge EU, Japan to consider halt ...</td>\n",
       "      <td>BANGKOK (Reuters) - Rights groups on Wednesday...</td>\n",
       "      <td>worldnews</td>\n",
       "      <td>October 18, 2017</td>\n",
       "      <td>True</td>\n",
       "      <td>bangkok (reuters) - rights groups wednesday ur...</td>\n",
       "      <td>[bangkok, (, reuters, ), -, rights, groups, we...</td>\n",
       "    </tr>\n",
       "    <tr>\n",
       "      <th>1</th>\n",
       "      <td>WATCH: IRRELEVANT DEM POLITICAL ANALYST James ...</td>\n",
       "      <td>On Friday s broadcast of HBO s  Real Time,  fo...</td>\n",
       "      <td>left-news</td>\n",
       "      <td>Oct 21, 2017</td>\n",
       "      <td>Fake</td>\n",
       "      <td>friday broadcast hbo real time, former clinton...</td>\n",
       "      <td>[friday, broadcast, hbo, real, time, ,, former...</td>\n",
       "    </tr>\n",
       "    <tr>\n",
       "      <th>2</th>\n",
       "      <td>Trump Asks O’Reilly, ‘Do you think our country...</td>\n",
       "      <td>21st Century Wire says Regardless of what one ...</td>\n",
       "      <td>US_News</td>\n",
       "      <td>February 6, 2017</td>\n",
       "      <td>Fake</td>\n",
       "      <td>21st century wire says regardless one thinks d...</td>\n",
       "      <td>[21st, century, wire, says, regardless, one, t...</td>\n",
       "    </tr>\n",
       "    <tr>\n",
       "      <th>3</th>\n",
       "      <td>Factbox: Trump fills top jobs for his administ...</td>\n",
       "      <td>(Reuters) - U.S. President-elect Donald Trump ...</td>\n",
       "      <td>politicsNews</td>\n",
       "      <td>December 5, 2016</td>\n",
       "      <td>True</td>\n",
       "      <td>(reuters) - u.s. president-elect donald trump ...</td>\n",
       "      <td>[(, reuters, ), -, u.s., president-elect, dona...</td>\n",
       "    </tr>\n",
       "    <tr>\n",
       "      <th>4</th>\n",
       "      <td>ONE LAST TIME ON OUR DIME: Mooch and Barack Ar...</td>\n",
       "      <td>The  hard working  First Family, in need of an...</td>\n",
       "      <td>politics</td>\n",
       "      <td>Aug 6, 2016</td>\n",
       "      <td>Fake</td>\n",
       "      <td>hard working first family, need another taxpay...</td>\n",
       "      <td>[hard, working, first, family, ,, need, anothe...</td>\n",
       "    </tr>\n",
       "  </tbody>\n",
       "</table>\n",
       "</div>"
      ],
      "text/plain": [
       "                                               title  \\\n",
       "0  Rights groups urge EU, Japan to consider halt ...   \n",
       "1  WATCH: IRRELEVANT DEM POLITICAL ANALYST James ...   \n",
       "2  Trump Asks O’Reilly, ‘Do you think our country...   \n",
       "3  Factbox: Trump fills top jobs for his administ...   \n",
       "4  ONE LAST TIME ON OUR DIME: Mooch and Barack Ar...   \n",
       "\n",
       "                                                text       subject  \\\n",
       "0  BANGKOK (Reuters) - Rights groups on Wednesday...     worldnews   \n",
       "1  On Friday s broadcast of HBO s  Real Time,  fo...     left-news   \n",
       "2  21st Century Wire says Regardless of what one ...       US_News   \n",
       "3  (Reuters) - U.S. President-elect Donald Trump ...  politicsNews   \n",
       "4  The  hard working  First Family, in need of an...      politics   \n",
       "\n",
       "                date Target  \\\n",
       "0  October 18, 2017    True   \n",
       "1       Oct 21, 2017   Fake   \n",
       "2   February 6, 2017   Fake   \n",
       "3  December 5, 2016    True   \n",
       "4        Aug 6, 2016   Fake   \n",
       "\n",
       "                                          clean_news  \\\n",
       "0  bangkok (reuters) - rights groups wednesday ur...   \n",
       "1  friday broadcast hbo real time, former clinton...   \n",
       "2  21st century wire says regardless one thinks d...   \n",
       "3  (reuters) - u.s. president-elect donald trump ...   \n",
       "4  hard working first family, need another taxpay...   \n",
       "\n",
       "                                      tokenized_news  \n",
       "0  [bangkok, (, reuters, ), -, rights, groups, we...  \n",
       "1  [friday, broadcast, hbo, real, time, ,, former...  \n",
       "2  [21st, century, wire, says, regardless, one, t...  \n",
       "3  [(, reuters, ), -, u.s., president-elect, dona...  \n",
       "4  [hard, working, first, family, ,, need, anothe...  "
      ]
     },
     "execution_count": 14,
     "metadata": {},
     "output_type": "execute_result"
    }
   ],
   "source": [
    "#Tokenization\n",
    "from nltk.tokenize import word_tokenize\n",
    "data['tokenized_news'] = data['clean_news'].apply(lambda x: word_tokenize(x))\n",
    "data.head()"
   ]
  },
  {
   "cell_type": "code",
   "execution_count": 15,
   "id": "d8db8bb6-78d1-4773-bde4-08bc46145532",
   "metadata": {},
   "outputs": [
    {
     "name": "stderr",
     "output_type": "stream",
     "text": [
      "[nltk_data] Downloading package wordnet to\n",
      "[nltk_data]     C:\\Users\\rsriv\\AppData\\Roaming\\nltk_data...\n",
      "[nltk_data]   Package wordnet is already up-to-date!\n"
     ]
    },
    {
     "data": {
      "text/plain": [
       "True"
      ]
     },
     "execution_count": 15,
     "metadata": {},
     "output_type": "execute_result"
    }
   ],
   "source": [
    "nltk.download('wordnet')"
   ]
  },
  {
   "cell_type": "code",
   "execution_count": 16,
   "id": "f75b14e7-ee0b-4c46-9ae2-6efc2738b604",
   "metadata": {},
   "outputs": [
    {
     "data": {
      "text/html": [
       "<div>\n",
       "<style scoped>\n",
       "    .dataframe tbody tr th:only-of-type {\n",
       "        vertical-align: middle;\n",
       "    }\n",
       "\n",
       "    .dataframe tbody tr th {\n",
       "        vertical-align: top;\n",
       "    }\n",
       "\n",
       "    .dataframe thead th {\n",
       "        text-align: right;\n",
       "    }\n",
       "</style>\n",
       "<table border=\"1\" class=\"dataframe\">\n",
       "  <thead>\n",
       "    <tr style=\"text-align: right;\">\n",
       "      <th></th>\n",
       "      <th>title</th>\n",
       "      <th>text</th>\n",
       "      <th>subject</th>\n",
       "      <th>date</th>\n",
       "      <th>Target</th>\n",
       "      <th>clean_news</th>\n",
       "      <th>tokenized_news</th>\n",
       "      <th>lemmatized_news</th>\n",
       "    </tr>\n",
       "  </thead>\n",
       "  <tbody>\n",
       "    <tr>\n",
       "      <th>0</th>\n",
       "      <td>Rights groups urge EU, Japan to consider halt ...</td>\n",
       "      <td>BANGKOK (Reuters) - Rights groups on Wednesday...</td>\n",
       "      <td>worldnews</td>\n",
       "      <td>October 18, 2017</td>\n",
       "      <td>True</td>\n",
       "      <td>bangkok (reuters) - rights groups wednesday ur...</td>\n",
       "      <td>[bangkok, (, reuters, ), -, rights, groups, we...</td>\n",
       "      <td>[bangkok, (, reuters, ), -, right, group, wedn...</td>\n",
       "    </tr>\n",
       "    <tr>\n",
       "      <th>1</th>\n",
       "      <td>WATCH: IRRELEVANT DEM POLITICAL ANALYST James ...</td>\n",
       "      <td>On Friday s broadcast of HBO s  Real Time,  fo...</td>\n",
       "      <td>left-news</td>\n",
       "      <td>Oct 21, 2017</td>\n",
       "      <td>Fake</td>\n",
       "      <td>friday broadcast hbo real time, former clinton...</td>\n",
       "      <td>[friday, broadcast, hbo, real, time, ,, former...</td>\n",
       "      <td>[friday, broadcast, hbo, real, time, ,, former...</td>\n",
       "    </tr>\n",
       "    <tr>\n",
       "      <th>2</th>\n",
       "      <td>Trump Asks O’Reilly, ‘Do you think our country...</td>\n",
       "      <td>21st Century Wire says Regardless of what one ...</td>\n",
       "      <td>US_News</td>\n",
       "      <td>February 6, 2017</td>\n",
       "      <td>Fake</td>\n",
       "      <td>21st century wire says regardless one thinks d...</td>\n",
       "      <td>[21st, century, wire, says, regardless, one, t...</td>\n",
       "      <td>[21st, century, wire, say, regardless, one, th...</td>\n",
       "    </tr>\n",
       "    <tr>\n",
       "      <th>3</th>\n",
       "      <td>Factbox: Trump fills top jobs for his administ...</td>\n",
       "      <td>(Reuters) - U.S. President-elect Donald Trump ...</td>\n",
       "      <td>politicsNews</td>\n",
       "      <td>December 5, 2016</td>\n",
       "      <td>True</td>\n",
       "      <td>(reuters) - u.s. president-elect donald trump ...</td>\n",
       "      <td>[(, reuters, ), -, u.s., president-elect, dona...</td>\n",
       "      <td>[(, reuters, ), -, u.s., president-elect, dona...</td>\n",
       "    </tr>\n",
       "    <tr>\n",
       "      <th>4</th>\n",
       "      <td>ONE LAST TIME ON OUR DIME: Mooch and Barack Ar...</td>\n",
       "      <td>The  hard working  First Family, in need of an...</td>\n",
       "      <td>politics</td>\n",
       "      <td>Aug 6, 2016</td>\n",
       "      <td>Fake</td>\n",
       "      <td>hard working first family, need another taxpay...</td>\n",
       "      <td>[hard, working, first, family, ,, need, anothe...</td>\n",
       "      <td>[hard, working, first, family, ,, need, anothe...</td>\n",
       "    </tr>\n",
       "  </tbody>\n",
       "</table>\n",
       "</div>"
      ],
      "text/plain": [
       "                                               title  \\\n",
       "0  Rights groups urge EU, Japan to consider halt ...   \n",
       "1  WATCH: IRRELEVANT DEM POLITICAL ANALYST James ...   \n",
       "2  Trump Asks O’Reilly, ‘Do you think our country...   \n",
       "3  Factbox: Trump fills top jobs for his administ...   \n",
       "4  ONE LAST TIME ON OUR DIME: Mooch and Barack Ar...   \n",
       "\n",
       "                                                text       subject  \\\n",
       "0  BANGKOK (Reuters) - Rights groups on Wednesday...     worldnews   \n",
       "1  On Friday s broadcast of HBO s  Real Time,  fo...     left-news   \n",
       "2  21st Century Wire says Regardless of what one ...       US_News   \n",
       "3  (Reuters) - U.S. President-elect Donald Trump ...  politicsNews   \n",
       "4  The  hard working  First Family, in need of an...      politics   \n",
       "\n",
       "                date Target  \\\n",
       "0  October 18, 2017    True   \n",
       "1       Oct 21, 2017   Fake   \n",
       "2   February 6, 2017   Fake   \n",
       "3  December 5, 2016    True   \n",
       "4        Aug 6, 2016   Fake   \n",
       "\n",
       "                                          clean_news  \\\n",
       "0  bangkok (reuters) - rights groups wednesday ur...   \n",
       "1  friday broadcast hbo real time, former clinton...   \n",
       "2  21st century wire says regardless one thinks d...   \n",
       "3  (reuters) - u.s. president-elect donald trump ...   \n",
       "4  hard working first family, need another taxpay...   \n",
       "\n",
       "                                      tokenized_news  \\\n",
       "0  [bangkok, (, reuters, ), -, rights, groups, we...   \n",
       "1  [friday, broadcast, hbo, real, time, ,, former...   \n",
       "2  [21st, century, wire, says, regardless, one, t...   \n",
       "3  [(, reuters, ), -, u.s., president-elect, dona...   \n",
       "4  [hard, working, first, family, ,, need, anothe...   \n",
       "\n",
       "                                     lemmatized_news  \n",
       "0  [bangkok, (, reuters, ), -, right, group, wedn...  \n",
       "1  [friday, broadcast, hbo, real, time, ,, former...  \n",
       "2  [21st, century, wire, say, regardless, one, th...  \n",
       "3  [(, reuters, ), -, u.s., president-elect, dona...  \n",
       "4  [hard, working, first, family, ,, need, anothe...  "
      ]
     },
     "execution_count": 16,
     "metadata": {},
     "output_type": "execute_result"
    }
   ],
   "source": [
    "#Lemmatization\n",
    "from nltk.stem import WordNetLemmatizer\n",
    "lemmatizer = WordNetLemmatizer()\n",
    "def lemmatize_text(tokens, lemmatizer):\n",
    "    return [lemmatizer.lemmatize(token) for token in tokens]\n",
    "data['lemmatized_news'] = data['tokenized_news'].apply(lambda x: lemmatize_text(x, lemmatizer))\n",
    "data.head()"
   ]
  },
  {
   "cell_type": "code",
   "execution_count": 17,
   "id": "392b9516-9bfa-42da-9f05-6c118384b709",
   "metadata": {},
   "outputs": [],
   "source": [
    "def return_sentences(tokenized_news):\n",
    "    return \" \".join([word for word in tokenized_news])"
   ]
  },
  {
   "cell_type": "code",
   "execution_count": 18,
   "id": "b8f15ec4-5aba-40e9-b8e2-f7c8eb5de8d9",
   "metadata": {},
   "outputs": [
    {
     "data": {
      "text/html": [
       "<div>\n",
       "<style scoped>\n",
       "    .dataframe tbody tr th:only-of-type {\n",
       "        vertical-align: middle;\n",
       "    }\n",
       "\n",
       "    .dataframe tbody tr th {\n",
       "        vertical-align: top;\n",
       "    }\n",
       "\n",
       "    .dataframe thead th {\n",
       "        text-align: right;\n",
       "    }\n",
       "</style>\n",
       "<table border=\"1\" class=\"dataframe\">\n",
       "  <thead>\n",
       "    <tr style=\"text-align: right;\">\n",
       "      <th></th>\n",
       "      <th>title</th>\n",
       "      <th>text</th>\n",
       "      <th>subject</th>\n",
       "      <th>date</th>\n",
       "      <th>Target</th>\n",
       "      <th>clean_news</th>\n",
       "      <th>tokenized_news</th>\n",
       "      <th>lemmatized_news</th>\n",
       "      <th>clean_text</th>\n",
       "    </tr>\n",
       "  </thead>\n",
       "  <tbody>\n",
       "    <tr>\n",
       "      <th>0</th>\n",
       "      <td>Rights groups urge EU, Japan to consider halt ...</td>\n",
       "      <td>BANGKOK (Reuters) - Rights groups on Wednesday...</td>\n",
       "      <td>worldnews</td>\n",
       "      <td>October 18, 2017</td>\n",
       "      <td>True</td>\n",
       "      <td>bangkok (reuters) - rights groups wednesday ur...</td>\n",
       "      <td>[bangkok, (, reuters, ), -, rights, groups, we...</td>\n",
       "      <td>[bangkok, (, reuters, ), -, right, group, wedn...</td>\n",
       "      <td>bangkok ( reuters ) - right group wednesday ur...</td>\n",
       "    </tr>\n",
       "    <tr>\n",
       "      <th>1</th>\n",
       "      <td>WATCH: IRRELEVANT DEM POLITICAL ANALYST James ...</td>\n",
       "      <td>On Friday s broadcast of HBO s  Real Time,  fo...</td>\n",
       "      <td>left-news</td>\n",
       "      <td>Oct 21, 2017</td>\n",
       "      <td>Fake</td>\n",
       "      <td>friday broadcast hbo real time, former clinton...</td>\n",
       "      <td>[friday, broadcast, hbo, real, time, ,, former...</td>\n",
       "      <td>[friday, broadcast, hbo, real, time, ,, former...</td>\n",
       "      <td>friday broadcast hbo real time , former clinto...</td>\n",
       "    </tr>\n",
       "    <tr>\n",
       "      <th>2</th>\n",
       "      <td>Trump Asks O’Reilly, ‘Do you think our country...</td>\n",
       "      <td>21st Century Wire says Regardless of what one ...</td>\n",
       "      <td>US_News</td>\n",
       "      <td>February 6, 2017</td>\n",
       "      <td>Fake</td>\n",
       "      <td>21st century wire says regardless one thinks d...</td>\n",
       "      <td>[21st, century, wire, says, regardless, one, t...</td>\n",
       "      <td>[21st, century, wire, say, regardless, one, th...</td>\n",
       "      <td>21st century wire say regardless one think don...</td>\n",
       "    </tr>\n",
       "    <tr>\n",
       "      <th>3</th>\n",
       "      <td>Factbox: Trump fills top jobs for his administ...</td>\n",
       "      <td>(Reuters) - U.S. President-elect Donald Trump ...</td>\n",
       "      <td>politicsNews</td>\n",
       "      <td>December 5, 2016</td>\n",
       "      <td>True</td>\n",
       "      <td>(reuters) - u.s. president-elect donald trump ...</td>\n",
       "      <td>[(, reuters, ), -, u.s., president-elect, dona...</td>\n",
       "      <td>[(, reuters, ), -, u.s., president-elect, dona...</td>\n",
       "      <td>( reuters ) - u.s. president-elect donald trum...</td>\n",
       "    </tr>\n",
       "    <tr>\n",
       "      <th>4</th>\n",
       "      <td>ONE LAST TIME ON OUR DIME: Mooch and Barack Ar...</td>\n",
       "      <td>The  hard working  First Family, in need of an...</td>\n",
       "      <td>politics</td>\n",
       "      <td>Aug 6, 2016</td>\n",
       "      <td>Fake</td>\n",
       "      <td>hard working first family, need another taxpay...</td>\n",
       "      <td>[hard, working, first, family, ,, need, anothe...</td>\n",
       "      <td>[hard, working, first, family, ,, need, anothe...</td>\n",
       "      <td>hard working first family , need another taxpa...</td>\n",
       "    </tr>\n",
       "  </tbody>\n",
       "</table>\n",
       "</div>"
      ],
      "text/plain": [
       "                                               title  \\\n",
       "0  Rights groups urge EU, Japan to consider halt ...   \n",
       "1  WATCH: IRRELEVANT DEM POLITICAL ANALYST James ...   \n",
       "2  Trump Asks O’Reilly, ‘Do you think our country...   \n",
       "3  Factbox: Trump fills top jobs for his administ...   \n",
       "4  ONE LAST TIME ON OUR DIME: Mooch and Barack Ar...   \n",
       "\n",
       "                                                text       subject  \\\n",
       "0  BANGKOK (Reuters) - Rights groups on Wednesday...     worldnews   \n",
       "1  On Friday s broadcast of HBO s  Real Time,  fo...     left-news   \n",
       "2  21st Century Wire says Regardless of what one ...       US_News   \n",
       "3  (Reuters) - U.S. President-elect Donald Trump ...  politicsNews   \n",
       "4  The  hard working  First Family, in need of an...      politics   \n",
       "\n",
       "                date Target  \\\n",
       "0  October 18, 2017    True   \n",
       "1       Oct 21, 2017   Fake   \n",
       "2   February 6, 2017   Fake   \n",
       "3  December 5, 2016    True   \n",
       "4        Aug 6, 2016   Fake   \n",
       "\n",
       "                                          clean_news  \\\n",
       "0  bangkok (reuters) - rights groups wednesday ur...   \n",
       "1  friday broadcast hbo real time, former clinton...   \n",
       "2  21st century wire says regardless one thinks d...   \n",
       "3  (reuters) - u.s. president-elect donald trump ...   \n",
       "4  hard working first family, need another taxpay...   \n",
       "\n",
       "                                      tokenized_news  \\\n",
       "0  [bangkok, (, reuters, ), -, rights, groups, we...   \n",
       "1  [friday, broadcast, hbo, real, time, ,, former...   \n",
       "2  [21st, century, wire, says, regardless, one, t...   \n",
       "3  [(, reuters, ), -, u.s., president-elect, dona...   \n",
       "4  [hard, working, first, family, ,, need, anothe...   \n",
       "\n",
       "                                     lemmatized_news  \\\n",
       "0  [bangkok, (, reuters, ), -, right, group, wedn...   \n",
       "1  [friday, broadcast, hbo, real, time, ,, former...   \n",
       "2  [21st, century, wire, say, regardless, one, th...   \n",
       "3  [(, reuters, ), -, u.s., president-elect, dona...   \n",
       "4  [hard, working, first, family, ,, need, anothe...   \n",
       "\n",
       "                                          clean_text  \n",
       "0  bangkok ( reuters ) - right group wednesday ur...  \n",
       "1  friday broadcast hbo real time , former clinto...  \n",
       "2  21st century wire say regardless one think don...  \n",
       "3  ( reuters ) - u.s. president-elect donald trum...  \n",
       "4  hard working first family , need another taxpa...  "
      ]
     },
     "execution_count": 18,
     "metadata": {},
     "output_type": "execute_result"
    }
   ],
   "source": [
    "data['clean_text'] = data['lemmatized_news'].apply(lambda x : return_sentences(x))\n",
    "data.head()"
   ]
  },
  {
   "cell_type": "code",
   "execution_count": 20,
   "id": "ae29113e-7cf5-4a36-8319-4faed33d0ebd",
   "metadata": {},
   "outputs": [
    {
     "data": {
      "text/html": [
       "<div>\n",
       "<style scoped>\n",
       "    .dataframe tbody tr th:only-of-type {\n",
       "        vertical-align: middle;\n",
       "    }\n",
       "\n",
       "    .dataframe tbody tr th {\n",
       "        vertical-align: top;\n",
       "    }\n",
       "\n",
       "    .dataframe thead th {\n",
       "        text-align: right;\n",
       "    }\n",
       "</style>\n",
       "<table border=\"1\" class=\"dataframe\">\n",
       "  <thead>\n",
       "    <tr style=\"text-align: right;\">\n",
       "      <th></th>\n",
       "      <th>title</th>\n",
       "      <th>text</th>\n",
       "      <th>subject</th>\n",
       "      <th>date</th>\n",
       "      <th>Target</th>\n",
       "      <th>clean_news</th>\n",
       "      <th>tokenized_news</th>\n",
       "      <th>lemmatized_news</th>\n",
       "      <th>clean_text</th>\n",
       "    </tr>\n",
       "  </thead>\n",
       "  <tbody>\n",
       "    <tr>\n",
       "      <th>0</th>\n",
       "      <td>Rights groups urge EU, Japan to consider halt ...</td>\n",
       "      <td>BANGKOK (Reuters) - Rights groups on Wednesday...</td>\n",
       "      <td>worldnews</td>\n",
       "      <td>October 18, 2017</td>\n",
       "      <td>0</td>\n",
       "      <td>bangkok (reuters) - rights groups wednesday ur...</td>\n",
       "      <td>[bangkok, (, reuters, ), -, rights, groups, we...</td>\n",
       "      <td>[bangkok, (, reuters, ), -, right, group, wedn...</td>\n",
       "      <td>bangkok ( reuters ) - right group wednesday ur...</td>\n",
       "    </tr>\n",
       "    <tr>\n",
       "      <th>1</th>\n",
       "      <td>WATCH: IRRELEVANT DEM POLITICAL ANALYST James ...</td>\n",
       "      <td>On Friday s broadcast of HBO s  Real Time,  fo...</td>\n",
       "      <td>left-news</td>\n",
       "      <td>Oct 21, 2017</td>\n",
       "      <td>1</td>\n",
       "      <td>friday broadcast hbo real time, former clinton...</td>\n",
       "      <td>[friday, broadcast, hbo, real, time, ,, former...</td>\n",
       "      <td>[friday, broadcast, hbo, real, time, ,, former...</td>\n",
       "      <td>friday broadcast hbo real time , former clinto...</td>\n",
       "    </tr>\n",
       "    <tr>\n",
       "      <th>2</th>\n",
       "      <td>Trump Asks O’Reilly, ‘Do you think our country...</td>\n",
       "      <td>21st Century Wire says Regardless of what one ...</td>\n",
       "      <td>US_News</td>\n",
       "      <td>February 6, 2017</td>\n",
       "      <td>1</td>\n",
       "      <td>21st century wire says regardless one thinks d...</td>\n",
       "      <td>[21st, century, wire, says, regardless, one, t...</td>\n",
       "      <td>[21st, century, wire, say, regardless, one, th...</td>\n",
       "      <td>21st century wire say regardless one think don...</td>\n",
       "    </tr>\n",
       "    <tr>\n",
       "      <th>3</th>\n",
       "      <td>Factbox: Trump fills top jobs for his administ...</td>\n",
       "      <td>(Reuters) - U.S. President-elect Donald Trump ...</td>\n",
       "      <td>politicsNews</td>\n",
       "      <td>December 5, 2016</td>\n",
       "      <td>0</td>\n",
       "      <td>(reuters) - u.s. president-elect donald trump ...</td>\n",
       "      <td>[(, reuters, ), -, u.s., president-elect, dona...</td>\n",
       "      <td>[(, reuters, ), -, u.s., president-elect, dona...</td>\n",
       "      <td>( reuters ) - u.s. president-elect donald trum...</td>\n",
       "    </tr>\n",
       "    <tr>\n",
       "      <th>4</th>\n",
       "      <td>ONE LAST TIME ON OUR DIME: Mooch and Barack Ar...</td>\n",
       "      <td>The  hard working  First Family, in need of an...</td>\n",
       "      <td>politics</td>\n",
       "      <td>Aug 6, 2016</td>\n",
       "      <td>1</td>\n",
       "      <td>hard working first family, need another taxpay...</td>\n",
       "      <td>[hard, working, first, family, ,, need, anothe...</td>\n",
       "      <td>[hard, working, first, family, ,, need, anothe...</td>\n",
       "      <td>hard working first family , need another taxpa...</td>\n",
       "    </tr>\n",
       "  </tbody>\n",
       "</table>\n",
       "</div>"
      ],
      "text/plain": [
       "                                               title  \\\n",
       "0  Rights groups urge EU, Japan to consider halt ...   \n",
       "1  WATCH: IRRELEVANT DEM POLITICAL ANALYST James ...   \n",
       "2  Trump Asks O’Reilly, ‘Do you think our country...   \n",
       "3  Factbox: Trump fills top jobs for his administ...   \n",
       "4  ONE LAST TIME ON OUR DIME: Mooch and Barack Ar...   \n",
       "\n",
       "                                                text       subject  \\\n",
       "0  BANGKOK (Reuters) - Rights groups on Wednesday...     worldnews   \n",
       "1  On Friday s broadcast of HBO s  Real Time,  fo...     left-news   \n",
       "2  21st Century Wire says Regardless of what one ...       US_News   \n",
       "3  (Reuters) - U.S. President-elect Donald Trump ...  politicsNews   \n",
       "4  The  hard working  First Family, in need of an...      politics   \n",
       "\n",
       "                date  Target  \\\n",
       "0  October 18, 2017        0   \n",
       "1       Oct 21, 2017       1   \n",
       "2   February 6, 2017       1   \n",
       "3  December 5, 2016        0   \n",
       "4        Aug 6, 2016       1   \n",
       "\n",
       "                                          clean_news  \\\n",
       "0  bangkok (reuters) - rights groups wednesday ur...   \n",
       "1  friday broadcast hbo real time, former clinton...   \n",
       "2  21st century wire says regardless one thinks d...   \n",
       "3  (reuters) - u.s. president-elect donald trump ...   \n",
       "4  hard working first family, need another taxpay...   \n",
       "\n",
       "                                      tokenized_news  \\\n",
       "0  [bangkok, (, reuters, ), -, rights, groups, we...   \n",
       "1  [friday, broadcast, hbo, real, time, ,, former...   \n",
       "2  [21st, century, wire, says, regardless, one, t...   \n",
       "3  [(, reuters, ), -, u.s., president-elect, dona...   \n",
       "4  [hard, working, first, family, ,, need, anothe...   \n",
       "\n",
       "                                     lemmatized_news  \\\n",
       "0  [bangkok, (, reuters, ), -, right, group, wedn...   \n",
       "1  [friday, broadcast, hbo, real, time, ,, former...   \n",
       "2  [21st, century, wire, say, regardless, one, th...   \n",
       "3  [(, reuters, ), -, u.s., president-elect, dona...   \n",
       "4  [hard, working, first, family, ,, need, anothe...   \n",
       "\n",
       "                                          clean_text  \n",
       "0  bangkok ( reuters ) - right group wednesday ur...  \n",
       "1  friday broadcast hbo real time , former clinto...  \n",
       "2  21st century wire say regardless one think don...  \n",
       "3  ( reuters ) - u.s. president-elect donald trum...  \n",
       "4  hard working first family , need another taxpa...  "
      ]
     },
     "execution_count": 20,
     "metadata": {},
     "output_type": "execute_result"
    }
   ],
   "source": [
    "data['Target'] = [1 if x == 'Fake' else 0 for x in data['Target']]\n",
    "data.head()"
   ]
  },
  {
   "cell_type": "code",
   "execution_count": 21,
   "id": "0531bef3-ac09-4d75-b216-2ebfb8cb60df",
   "metadata": {},
   "outputs": [],
   "source": [
    "from sklearn.model_selection import train_test_split"
   ]
  },
  {
   "cell_type": "code",
   "execution_count": 22,
   "id": "9110de9c-a9f3-4805-9e1f-cc6e6bf41317",
   "metadata": {},
   "outputs": [
    {
     "name": "stdout",
     "output_type": "stream",
     "text": [
      "(35918,)\n",
      "(8980,)\n"
     ]
    }
   ],
   "source": [
    "\n",
    "X_train, X_test, y_train, y_test = train_test_split(data['clean_text'], data['Target'], test_size=0.2, random_state=5)\n",
    "\n",
    "print(X_train.shape)\n",
    "print(X_test.shape)"
   ]
  },
  {
   "cell_type": "code",
   "execution_count": 23,
   "id": "1f89e838-c001-46f4-b76d-f503da12126a",
   "metadata": {},
   "outputs": [
    {
     "name": "stdout",
     "output_type": "stream",
     "text": [
      "CountVectorizer feature names: ['00' '000' '0000' ... 'zzzzzzzz' 'zzzzzzzzzzzzz' 'émigré']\n"
     ]
    }
   ],
   "source": [
    "from sklearn.feature_extraction.text import CountVectorizer, TfidfVectorizer\n",
    "\n",
    "# Assuming 'lemmatized_news' is a column in your DataFrame 'data'\n",
    "count_vectorizer = CountVectorizer()\n",
    "X = count_vectorizer.fit_transform(data['clean_text'])\n",
    "\n",
    "# Get feature names\n",
    "feature_names_count = count_vectorizer.get_feature_names_out()\n",
    "\n",
    "print(\"CountVectorizer feature names:\", feature_names_count)"
   ]
  },
  {
   "cell_type": "code",
   "execution_count": 26,
   "id": "41a58fa8-169f-4f40-ab4f-7748b983b50a",
   "metadata": {},
   "outputs": [
    {
     "name": "stdout",
     "output_type": "stream",
     "text": [
      "TfidfVectorizer feature names: ['00' '000' '0000' ... 'zzzzzzzz' 'zzzzzzzzzzzzz' 'émigré']\n"
     ]
    }
   ],
   "source": [
    "\n",
    "tfidf_vectorizer = TfidfVectorizer()\n",
    "X_tfidf = tfidf_vectorizer.fit_transform(data['clean_text'])\n",
    "feature_names_tfidf = tfidf_vectorizer.get_feature_names_out()\n",
    "print(\"TfidfVectorizer feature names:\", feature_names_tfidf)"
   ]
  },
  {
   "cell_type": "code",
   "execution_count": 27,
   "id": "8e7ace54-2487-407c-abdf-22e792a2864e",
   "metadata": {},
   "outputs": [
    {
     "name": "stdout",
     "output_type": "stream",
     "text": [
      "(35918, 106465)\n",
      "(8980, 106465)\n"
     ]
    }
   ],
   "source": [
    "\n",
    "tfidf = TfidfVectorizer()\n",
    "tfidf_train = tfidf.fit_transform(X_train)\n",
    "tfidf_test = tfidf.transform(X_test)\n",
    "\n",
    "print(tfidf_train.shape)\n",
    "print(tfidf_test.shape)"
   ]
  },
  {
   "cell_type": "code",
   "execution_count": null,
   "id": "abe51355-63e6-4281-9ea9-c961354b39bd",
   "metadata": {},
   "outputs": [],
   "source": []
  }
 ],
 "metadata": {
  "kernelspec": {
   "display_name": "Python 3 (ipykernel)",
   "language": "python",
   "name": "python3"
  },
  "language_info": {
   "codemirror_mode": {
    "name": "ipython",
    "version": 3
   },
   "file_extension": ".py",
   "mimetype": "text/x-python",
   "name": "python",
   "nbconvert_exporter": "python",
   "pygments_lexer": "ipython3",
   "version": "3.12.0"
  }
 },
 "nbformat": 4,
 "nbformat_minor": 5
}
